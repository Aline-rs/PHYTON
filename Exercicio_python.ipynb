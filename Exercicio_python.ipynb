{
  "nbformat": 4,
  "nbformat_minor": 0,
  "metadata": {
    "colab": {
      "name": "Exercicio.python.ipynb",
      "provenance": [],
      "collapsed_sections": [],
      "authorship_tag": "ABX9TyOVHMhZsDaBoOSxxDbcgEbq",
      "include_colab_link": true
    },
    "kernelspec": {
      "name": "python3",
      "display_name": "Python 3"
    },
    "language_info": {
      "name": "python"
    }
  },
  "cells": [
    {
      "cell_type": "markdown",
      "metadata": {
        "id": "view-in-github",
        "colab_type": "text"
      },
      "source": [
        "<a href=\"https://colab.research.google.com/github/Aline-rs/PHYTON/blob/main/Exercicio_python.ipynb\" target=\"_parent\"><img src=\"https://colab.research.google.com/assets/colab-badge.svg\" alt=\"Open In Colab\"/></a>"
      ]
    },
    {
      "cell_type": "code",
      "execution_count": null,
      "metadata": {
        "colab": {
          "base_uri": "https://localhost:8080/"
        },
        "id": "Xxw-6Dxv-WfG",
        "outputId": "9ccb8391-ca27-4c67-d42c-9e45ff2572ed"
      },
      "outputs": [
        {
          "output_type": "stream",
          "name": "stdout",
          "text": [
            "\n",
            "JSON :  <?xml version=\"1.0\" encoding=\"UTF-8\"?>\n",
            "<xmlcep>\n",
            "  <cep>30140-071</cep>\n",
            "  <logradouro>Rua dos AimorÃ©s</logradouro>\n",
            "  <complemento>de 971/972 a 1399/1400</complemento>\n",
            "  <bairro>Boa Viagem</bairro>\n",
            "  <localidade>Belo Horizonte</localidade>\n",
            "  <uf>MG</uf>\n",
            "  <ibge>3106200</ibge>\n",
            "  <gia></gia>\n",
            "  <ddd>31</ddd>\n",
            "  <siafi>4123</siafi>\n",
            "</xmlcep>\n",
            "\n",
            "\n"
          ]
        }
      ],
      "source": [
        "import requests\n",
        "url = 'https://viacep.com.br/ws/'\n",
        "cep = '30140071'\n",
        "formato = '/xml/'\n",
        "r = requests.get(url + cep + formato)\n",
        "if (r.status_code == 200):\n",
        " print()\n",
        " print('JSON : ', r.text)\n",
        " print()\n",
        "else:\n",
        " print('Nao houve sucesso na requisicao.')"
      ]
    },
    {
      "cell_type": "code",
      "source": [
        "import requests\n",
        "url = 'https://viacep.com.br/ws/'\n",
        "ceps = ['30140071', '30140072', '30140073', '30140074', '30140075']\n",
        "formato = '/xml/'\n",
        "\n",
        "for cep in ceps:\n",
        "\n",
        "  r = requests.get(url + cep + formato)\n",
        "\n",
        "  if (r.status_code == 200):\n",
        "    print()\n",
        "    print('JSON : ', r.text)\n",
        "    print()\n",
        "\n",
        "  else:\n",
        "    print('Nao houve sucesso na requisicao.')"
      ],
      "metadata": {
        "id": "B8ad-DUTDR69",
        "colab": {
          "base_uri": "https://localhost:8080/"
        },
        "outputId": "ffd02dfe-8951-4e77-fb07-2c1cb50e71ee"
      },
      "execution_count": 2,
      "outputs": [
        {
          "output_type": "stream",
          "name": "stdout",
          "text": [
            "\n",
            "JSON :  <?xml version=\"1.0\" encoding=\"UTF-8\"?>\n",
            "<xmlcep>\n",
            "  <cep>30140-071</cep>\n",
            "  <logradouro>Rua dos AimorÃ©s</logradouro>\n",
            "  <complemento>de 971/972 a 1399/1400</complemento>\n",
            "  <bairro>Boa Viagem</bairro>\n",
            "  <localidade>Belo Horizonte</localidade>\n",
            "  <uf>MG</uf>\n",
            "  <ibge>3106200</ibge>\n",
            "  <gia></gia>\n",
            "  <ddd>31</ddd>\n",
            "  <siafi>4123</siafi>\n",
            "</xmlcep>\n",
            "\n",
            "\n",
            "\n",
            "JSON :  <?xml version=\"1.0\" encoding=\"UTF-8\"?>\n",
            "<xmlcep>\n",
            "  <cep>30140-072</cep>\n",
            "  <logradouro>Rua dos AimorÃ©s</logradouro>\n",
            "  <complemento>de 1401/1402 a 1799/1800</complemento>\n",
            "  <bairro>Lourdes</bairro>\n",
            "  <localidade>Belo Horizonte</localidade>\n",
            "  <uf>MG</uf>\n",
            "  <ibge>3106200</ibge>\n",
            "  <gia></gia>\n",
            "  <ddd>31</ddd>\n",
            "  <siafi>4123</siafi>\n",
            "</xmlcep>\n",
            "\n",
            "\n",
            "\n",
            "JSON :  <?xml version=\"1.0\" encoding=\"UTF-8\"?>\n",
            "<xmlcep>\n",
            "  <cep>30140-073</cep>\n",
            "  <logradouro>Rua dos AimorÃ©s</logradouro>\n",
            "  <complemento>de 2761/2762 a 3299/3300</complemento>\n",
            "  <bairro>Barro Preto</bairro>\n",
            "  <localidade>Belo Horizonte</localidade>\n",
            "  <uf>MG</uf>\n",
            "  <ibge>3106200</ibge>\n",
            "  <gia></gia>\n",
            "  <ddd>31</ddd>\n",
            "  <siafi>4123</siafi>\n",
            "</xmlcep>\n",
            "\n",
            "\n",
            "\n",
            "JSON :  <?xml version=\"1.0\" encoding=\"UTF-8\"?>\n",
            "<xmlcep>\n",
            "  <cep>30140-074</cep>\n",
            "  <logradouro>Rua dos AimorÃ©s</logradouro>\n",
            "  <complemento>de 1801/1802 a 2369/2370</complemento>\n",
            "  <bairro>Lourdes</bairro>\n",
            "  <localidade>Belo Horizonte</localidade>\n",
            "  <uf>MG</uf>\n",
            "  <ibge>3106200</ibge>\n",
            "  <gia></gia>\n",
            "  <ddd>31</ddd>\n",
            "  <siafi>4123</siafi>\n",
            "</xmlcep>\n",
            "\n",
            "\n",
            "\n",
            "JSON :  <?xml version=\"1.0\" encoding=\"UTF-8\"?>\n",
            "<xmlcep>\n",
            "  <cep>30140-075</cep>\n",
            "  <logradouro>Rua dos Aimorés</logradouro>\n",
            "  <complemento>de 531/532 a 969/970</complemento>\n",
            "  <bairro>Funcionários</bairro>\n",
            "  <localidade>Belo Horizonte</localidade>\n",
            "  <uf>MG</uf>\n",
            "  <ibge>3106200</ibge>\n",
            "  <gia></gia>\n",
            "  <ddd>31</ddd>\n",
            "  <siafi>4123</siafi>\n",
            "</xmlcep>\n",
            "\n",
            "\n"
          ]
        }
      ]
    },
    {
      "cell_type": "code",
      "source": [
        "import requests\n",
        "\n",
        "url = 'https://viacep.com.br/ws/'\n",
        "formato = '/json/'\n",
        "\n",
        "def consultar_endereco(uf, cidade, logradouro):\n",
        "  r = requests.get(f'{url}/{cidade}/{logradouro}{formato}')\n",
        "  if (r.status_code == 200):\n",
        "    return r.json()\n",
        "  else:\n",
        "    return []\n",
        "\n",
        "\n",
        "def mostrar_resultados_busca(enderecos):\n",
        "\n",
        "  total_enderecos = len(enderecos)\n",
        "\n",
        "  if total_enderecos == 0:\n",
        "    print('Nenhum resultado encontrado!')\n",
        "  else:\n",
        "    for i in range(total_enderecos):\n",
        "      logradouro = enderecos[i]['logradouro']\n",
        "      complemento =  enderecos[i]['complemento']\n",
        "      bairro = enderecos[i]['bairro']\n",
        "      localidade =  enderecos[i]['localidade']\n",
        "      uf =  enderecos[i]['uf']\n",
        "      cep =  enderecos[i]['cep']\n",
        "\n",
        "    endereco_formatado = '{0}, {1}, {2}, {3}, {4}, {5}, {6}'.format(logradouro, complemento, bairro, localidade, uf, cep)\n",
        "\n",
        "    print(f'[{i + 1}'\\t.endereco_formatado)\n",
        "\n",
        "if _name_ == 'main':\n",
        "  uf = input('Qual é o seu estado (UF)?')\n",
        "  cidade  = input('Qual a sua cidade? ')\n",
        "  logradouro = input('Qual é o nome do logradouro?')\n",
        "  enderecos= list(consultar_endereco(uf, cidade, logradouro))"
      ],
      "metadata": {
        "colab": {
          "base_uri": "https://localhost:8080/"
        },
        "id": "UnYHK3sdQ-MX",
        "outputId": "2ff55f37-c510-45f6-cd10-ccc44c907e57"
      },
      "execution_count": null,
      "outputs": [
        {
          "output_type": "stream",
          "name": "stdout",
          "text": [
            "Nao houve sucesso na requisicao.\n"
          ]
        }
      ]
    },
    {
      "cell_type": "code",
      "source": [
        "import requests\n",
        "r = requests.get('http://www.google.com/search', params={'q': \n",
        "'Protocolo HTTP'})\n",
        "def salvar_arquivo_html (texto_html):\n",
        "  arquivo = open(\"dados.txt\", \"w\")\n",
        "  arquivo.write(texto_html)\n",
        "  arquivo.close()\n",
        "\n",
        "if (r.status_code == 200):\n",
        " print()\n",
        " print('Retorno : ', r.text)\n",
        " print()\n",
        "else:\n",
        " print('Nao houve sucesso na requisicao.')"
      ],
      "metadata": {
        "id": "8Uk0Td4QmgtQ"
      },
      "execution_count": null,
      "outputs": []
    }
  ]
}